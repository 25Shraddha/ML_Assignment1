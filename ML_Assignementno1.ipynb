{
 "cells": [
  {
   "cell_type": "code",
   "execution_count": 10,
   "metadata": {},
   "outputs": [
    {
     "name": "stdout",
     "output_type": "stream",
     "text": [
      "<class 'pandas.core.frame.DataFrame'>\n",
      "Index: 52955 entries, 0 to 52954\n",
      "Data columns (total 20 columns):\n",
      " #   Column               Non-Null Count  Dtype  \n",
      "---  ------               --------------  -----  \n",
      " 0   CustomerID           52924 non-null  float64\n",
      " 1   Gender               52924 non-null  object \n",
      " 2   Location             52924 non-null  object \n",
      " 3   Tenure_Months        52924 non-null  float64\n",
      " 4   Transaction_ID       52924 non-null  float64\n",
      " 5   Transaction_Date     52924 non-null  object \n",
      " 6   sku                  52924 non-null  object \n",
      " 7   Product_Description  52924 non-null  object \n",
      " 8   Product_Category     52955 non-null  object \n",
      " 9   Quantity             52924 non-null  float64\n",
      " 10  Avg_Price            52924 non-null  float64\n",
      " 11  Delivery_Charges     52924 non-null  float64\n",
      " 12  Coupon_Status        52924 non-null  object \n",
      " 13  GST                  52924 non-null  float64\n",
      " 14  Date                 52924 non-null  object \n",
      " 15  Offline_Spend        52924 non-null  float64\n",
      " 16  Online_Spend         52924 non-null  float64\n",
      " 17  Month                52955 non-null  int64  \n",
      " 18  Coupon_Code          52555 non-null  object \n",
      " 19  Discount_pct         52555 non-null  float64\n",
      "dtypes: float64(10), int64(1), object(9)\n",
      "memory usage: 10.5+ MB\n"
     ]
    }
   ],
   "source": [
    "#Display informaion about dataset\n",
    "df.info()\n"
   ]
  },
  {
   "cell_type": "code",
   "execution_count": 9,
   "metadata": {},
   "outputs": [
    {
     "data": {
      "text/plain": [
       "Index(['CustomerID', 'Gender', 'Location', 'Tenure_Months', 'Transaction_ID',\n",
       "       'Transaction_Date', 'sku', 'Product_Description', 'Product_Category',\n",
       "       'Quantity', 'Avg_Price', 'Delivery_Charges', 'Coupon', 'GST', 'Date',\n",
       "       'Offline_Spend', 'Online_Spend', 'Month', 'Coupon_Code',\n",
       "       'Discount_pct'],\n",
       "      dtype='object')"
      ]
     },
     "execution_count": 9,
     "metadata": {},
     "output_type": "execute_result"
    }
   ],
   "source": [
    "data = df.rename(columns=new_column_names)\n",
    "data.columns"
   ]
  },
  {
   "cell_type": "code",
   "execution_count": 8,
   "metadata": {},
   "outputs": [],
   "source": [
    "#Rename of Columns names....\n",
    "new_column_names = {\"Coupon_Status\": \"Coupon\"}"
   ]
  },
  {
   "cell_type": "code",
   "execution_count": 7,
   "metadata": {},
   "outputs": [
    {
     "data": {
      "text/plain": [
       "Number\n",
       "30      New York\n",
       "31      New York\n",
       "32       Chicago\n",
       "33       Chicago\n",
       "34       Chicago\n",
       "35       Chicago\n",
       "36       Chicago\n",
       "37       Chicago\n",
       "38    New Jersey\n",
       "39    New Jersey\n",
       "Name: Location, dtype: object"
      ]
     },
     "execution_count": 7,
     "metadata": {},
     "output_type": "execute_result"
    }
   ],
   "source": [
    "df.loc[30:, 'Location'].head(10)"
   ]
  },
  {
   "cell_type": "code",
   "execution_count": 6,
   "metadata": {},
   "outputs": [
    {
     "data": {
      "text/plain": [
       "CustomerID                                                       14688.0\n",
       "Gender                                                                 F\n",
       "Location                                                        New York\n",
       "Tenure_Months                                                       46.0\n",
       "Transaction_ID                                                   16736.0\n",
       "Transaction_Date                                                1/1/2019\n",
       "sku                                                       GGOENEBJ079499\n",
       "Product_Description    Nest Learning Thermostat 3rd Gen-USA - Stainle...\n",
       "Product_Category                                                Nest-USA\n",
       "Quantity                                                             1.0\n",
       "Avg_Price                                                         153.71\n",
       "Delivery_Charges                                                     6.5\n",
       "Coupon_Status                                                       Used\n",
       "GST                                                                  0.1\n",
       "Date                                                            1/1/2019\n",
       "Offline_Spend                                                     4500.0\n",
       "Online_Spend                                                      2424.5\n",
       "Month                                                                  1\n",
       "Coupon_Code                                                       ELEC10\n",
       "Discount_pct                                                        10.0\n",
       "Name: 31, dtype: object"
      ]
     },
     "execution_count": 6,
     "metadata": {},
     "output_type": "execute_result"
    }
   ],
   "source": [
    "#Location function\n",
    "df.loc[31]\n"
   ]
  },
  {
   "cell_type": "code",
   "execution_count": null,
   "metadata": {},
   "outputs": [],
   "source": [
    "# Unique function is used....\n",
    "df['Number'].is_unique"
   ]
  },
  {
   "cell_type": "code",
   "execution_count": 2,
   "metadata": {},
   "outputs": [
    {
     "data": {
      "text/html": [
       "<div>\n",
       "<style scoped>\n",
       "    .dataframe tbody tr th:only-of-type {\n",
       "        vertical-align: middle;\n",
       "    }\n",
       "\n",
       "    .dataframe tbody tr th {\n",
       "        vertical-align: top;\n",
       "    }\n",
       "\n",
       "    .dataframe thead th {\n",
       "        text-align: right;\n",
       "    }\n",
       "</style>\n",
       "<table border=\"1\" class=\"dataframe\">\n",
       "  <thead>\n",
       "    <tr style=\"text-align: right;\">\n",
       "      <th></th>\n",
       "      <th>Number</th>\n",
       "      <th>CustomerID</th>\n",
       "      <th>Gender</th>\n",
       "      <th>Location</th>\n",
       "      <th>Tenure_Months</th>\n",
       "      <th>Transaction_ID</th>\n",
       "      <th>Transaction_Date</th>\n",
       "      <th>sku</th>\n",
       "      <th>Product_Description</th>\n",
       "      <th>Product_Category</th>\n",
       "      <th>...</th>\n",
       "      <th>Avg_Price</th>\n",
       "      <th>Delivery_Charges</th>\n",
       "      <th>Coupon_Status</th>\n",
       "      <th>GST</th>\n",
       "      <th>Date</th>\n",
       "      <th>Offline_Spend</th>\n",
       "      <th>Online_Spend</th>\n",
       "      <th>Month</th>\n",
       "      <th>Coupon_Code</th>\n",
       "      <th>Discount_pct</th>\n",
       "    </tr>\n",
       "  </thead>\n",
       "  <tbody>\n",
       "    <tr>\n",
       "      <th>0</th>\n",
       "      <td>0</td>\n",
       "      <td>17850.0</td>\n",
       "      <td>M</td>\n",
       "      <td>Chicago</td>\n",
       "      <td>12.0</td>\n",
       "      <td>16679.0</td>\n",
       "      <td>1/1/2019</td>\n",
       "      <td>GGOENEBJ079499</td>\n",
       "      <td>Nest Learning Thermostat 3rd Gen-USA - Stainle...</td>\n",
       "      <td>Nest-USA</td>\n",
       "      <td>...</td>\n",
       "      <td>153.71</td>\n",
       "      <td>6.5</td>\n",
       "      <td>Used</td>\n",
       "      <td>0.1</td>\n",
       "      <td>1/1/2019</td>\n",
       "      <td>4500.0</td>\n",
       "      <td>2424.5</td>\n",
       "      <td>1</td>\n",
       "      <td>ELEC10</td>\n",
       "      <td>10.0</td>\n",
       "    </tr>\n",
       "    <tr>\n",
       "      <th>1</th>\n",
       "      <td>1</td>\n",
       "      <td>17850.0</td>\n",
       "      <td>M</td>\n",
       "      <td>Chicago</td>\n",
       "      <td>12.0</td>\n",
       "      <td>16680.0</td>\n",
       "      <td>1/1/2019</td>\n",
       "      <td>GGOENEBJ079499</td>\n",
       "      <td>Nest Learning Thermostat 3rd Gen-USA - Stainle...</td>\n",
       "      <td>Nest-USA</td>\n",
       "      <td>...</td>\n",
       "      <td>153.71</td>\n",
       "      <td>6.5</td>\n",
       "      <td>Used</td>\n",
       "      <td>0.1</td>\n",
       "      <td>1/1/2019</td>\n",
       "      <td>4500.0</td>\n",
       "      <td>2424.5</td>\n",
       "      <td>1</td>\n",
       "      <td>ELEC10</td>\n",
       "      <td>10.0</td>\n",
       "    </tr>\n",
       "    <tr>\n",
       "      <th>2</th>\n",
       "      <td>2</td>\n",
       "      <td>17850.0</td>\n",
       "      <td>M</td>\n",
       "      <td>Chicago</td>\n",
       "      <td>12.0</td>\n",
       "      <td>16696.0</td>\n",
       "      <td>1/1/2019</td>\n",
       "      <td>GGOENEBQ078999</td>\n",
       "      <td>Nest Cam Outdoor Security Camera - USA</td>\n",
       "      <td>Nest-USA</td>\n",
       "      <td>...</td>\n",
       "      <td>122.77</td>\n",
       "      <td>6.5</td>\n",
       "      <td>Not Used</td>\n",
       "      <td>0.1</td>\n",
       "      <td>1/1/2019</td>\n",
       "      <td>4500.0</td>\n",
       "      <td>2424.5</td>\n",
       "      <td>1</td>\n",
       "      <td>ELEC10</td>\n",
       "      <td>10.0</td>\n",
       "    </tr>\n",
       "    <tr>\n",
       "      <th>3</th>\n",
       "      <td>3</td>\n",
       "      <td>17850.0</td>\n",
       "      <td>M</td>\n",
       "      <td>Chicago</td>\n",
       "      <td>12.0</td>\n",
       "      <td>16699.0</td>\n",
       "      <td>1/1/2019</td>\n",
       "      <td>GGOENEBQ079099</td>\n",
       "      <td>Nest Protect Smoke + CO White Battery Alarm-USA</td>\n",
       "      <td>Nest-USA</td>\n",
       "      <td>...</td>\n",
       "      <td>81.50</td>\n",
       "      <td>6.5</td>\n",
       "      <td>Clicked</td>\n",
       "      <td>0.1</td>\n",
       "      <td>1/1/2019</td>\n",
       "      <td>4500.0</td>\n",
       "      <td>2424.5</td>\n",
       "      <td>1</td>\n",
       "      <td>ELEC10</td>\n",
       "      <td>10.0</td>\n",
       "    </tr>\n",
       "    <tr>\n",
       "      <th>4</th>\n",
       "      <td>4</td>\n",
       "      <td>17850.0</td>\n",
       "      <td>M</td>\n",
       "      <td>Chicago</td>\n",
       "      <td>12.0</td>\n",
       "      <td>16700.0</td>\n",
       "      <td>1/1/2019</td>\n",
       "      <td>GGOENEBJ079499</td>\n",
       "      <td>Nest Learning Thermostat 3rd Gen-USA - Stainle...</td>\n",
       "      <td>Nest-USA</td>\n",
       "      <td>...</td>\n",
       "      <td>153.71</td>\n",
       "      <td>6.5</td>\n",
       "      <td>Clicked</td>\n",
       "      <td>0.1</td>\n",
       "      <td>1/1/2019</td>\n",
       "      <td>4500.0</td>\n",
       "      <td>2424.5</td>\n",
       "      <td>1</td>\n",
       "      <td>ELEC10</td>\n",
       "      <td>10.0</td>\n",
       "    </tr>\n",
       "  </tbody>\n",
       "</table>\n",
       "<p>5 rows × 21 columns</p>\n",
       "</div>"
      ],
      "text/plain": [
       "   Number  CustomerID Gender Location  Tenure_Months  Transaction_ID  \\\n",
       "0       0     17850.0      M  Chicago           12.0         16679.0   \n",
       "1       1     17850.0      M  Chicago           12.0         16680.0   \n",
       "2       2     17850.0      M  Chicago           12.0         16696.0   \n",
       "3       3     17850.0      M  Chicago           12.0         16699.0   \n",
       "4       4     17850.0      M  Chicago           12.0         16700.0   \n",
       "\n",
       "  Transaction_Date             sku  \\\n",
       "0         1/1/2019  GGOENEBJ079499   \n",
       "1         1/1/2019  GGOENEBJ079499   \n",
       "2         1/1/2019  GGOENEBQ078999   \n",
       "3         1/1/2019  GGOENEBQ079099   \n",
       "4         1/1/2019  GGOENEBJ079499   \n",
       "\n",
       "                                 Product_Description Product_Category  ...  \\\n",
       "0  Nest Learning Thermostat 3rd Gen-USA - Stainle...         Nest-USA  ...   \n",
       "1  Nest Learning Thermostat 3rd Gen-USA - Stainle...         Nest-USA  ...   \n",
       "2             Nest Cam Outdoor Security Camera - USA         Nest-USA  ...   \n",
       "3    Nest Protect Smoke + CO White Battery Alarm-USA         Nest-USA  ...   \n",
       "4  Nest Learning Thermostat 3rd Gen-USA - Stainle...         Nest-USA  ...   \n",
       "\n",
       "   Avg_Price  Delivery_Charges  Coupon_Status  GST      Date Offline_Spend  \\\n",
       "0     153.71               6.5           Used  0.1  1/1/2019        4500.0   \n",
       "1     153.71               6.5           Used  0.1  1/1/2019        4500.0   \n",
       "2     122.77               6.5       Not Used  0.1  1/1/2019        4500.0   \n",
       "3      81.50               6.5        Clicked  0.1  1/1/2019        4500.0   \n",
       "4     153.71               6.5        Clicked  0.1  1/1/2019        4500.0   \n",
       "\n",
       "   Online_Spend  Month  Coupon_Code Discount_pct  \n",
       "0        2424.5      1       ELEC10         10.0  \n",
       "1        2424.5      1       ELEC10         10.0  \n",
       "2        2424.5      1       ELEC10         10.0  \n",
       "3        2424.5      1       ELEC10         10.0  \n",
       "4        2424.5      1       ELEC10         10.0  \n",
       "\n",
       "[5 rows x 21 columns]"
      ]
     },
     "execution_count": 2,
     "metadata": {},
     "output_type": "execute_result"
    }
   ],
   "source": [
    "#Taking csv file\n",
    "#Online shopping data\n",
    "df = pd.read_csv(\"/MLpract2/onlineshop.csv\")\n",
    "df.head()"
   ]
  },
  {
   "cell_type": "code",
   "execution_count": null,
   "metadata": {},
   "outputs": [],
   "source": [
    "import pandas as pd\n",
    "import numpy as np"
   ]
  }
 ],
 "metadata": {
  "kernelspec": {
   "display_name": "base",
   "language": "python",
   "name": "python3"
  },
  "language_info": {
   "codemirror_mode": {
    "name": "ipython",
    "version": 3
   },
   "file_extension": ".py",
   "mimetype": "text/x-python",
   "name": "python",
   "nbconvert_exporter": "python",
   "pygments_lexer": "ipython3",
   "version": "3.11.5"
  }
 },
 "nbformat": 4,
 "nbformat_minor": 2
}
